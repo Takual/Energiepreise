{
 "cells": [
  {
   "cell_type": "code",
   "execution_count": null,
   "metadata": {},
   "outputs": [],
   "source": [
    "import pandas as pd\n",
    "import csv\n",
    "import os\n",
    "\n",
    "#DATA = \"tbl_Vergleich_GV_GuenstjePostort_2Stichtage_Strom.csv\"\n",
    "DATA = \"stichprobe.csv\"\n",
    "ROOT = \"https://raw.githubusercontent.com/Takual/Energiepreise/refs/heads/main/data/raw/\"\n",
    "\n",
    "\n",
    "\n",
    "# Importiere die Daten mit europäischem Zahlenformat\n",
    "df = pd.read_csv(ROOT + DATA, sep=';', decimal=',')\n",
    "\n",
    "#Wandelt plz in reinen String um\n",
    "#df[\"plz\"] = df[\"PLZ\"].astype(\"string\")\n",
    "\n",
    "# Entfernen von führenden und folgenden Leerzeichen in den Spaltennamen\n",
    "df.columns = df.columns.str.replace(r\"^\\s+|\\s+$\", \"\", regex=True)\n",
    "# Entfernen von \"%\" aus den Spaltennamen\n",
    "df.columns = df.columns.str.replace(r\"%\", \"\", regex=True)\n",
    "# Konvertieren der Spaltennamen in Kleinbuchstaben und Ersetzen von Leerzeichen mit Unterstrichen\n",
    "df.columns = df.columns.str.lower().str.replace(\" \", \"_\", regex=False)"
   ]
  },
  {
   "cell_type": "code",
   "execution_count": null,
   "metadata": {},
   "outputs": [],
   "source": [
    "df[\"plz\"] = df[\"plz\"].astype(str)\n",
    "\n",
    "#plz mit nur 4 Ziffern bekommen vorn eine Null\n",
    "df['plz'] = df['plz'].apply(lambda x: x.zfill(5))"
   ]
  },
  {
   "cell_type": "code",
   "execution_count": null,
   "metadata": {},
   "outputs": [],
   "source": [
    "# Spalte für die erste Ziffer der PLZ hinzufügen\n",
    "df[\"PLZ_FirstDigit\"] = df[\"plz\"].str[0]\n",
    "\n",
    "# Stichprobe ziehen: 100 Datensätze für jede PLZ-Anfangsziffer (0 bis 9)\n",
    "sampled_data = df.groupby(\"PLZ_FirstDigit\").apply(lambda x: x.sample(n=100, replace=False)).reset_index(drop=True)\n",
    "\n",
    "# Überblick über die Stichprobe\n",
    "print(sampled_data.head())\n",
    "\n",
    "# Speichern der Stichprobe in eine CSV-Datei (optional)\n",
    "sampled_data.to_csv(\"stichprobe.csv\", index=False)\n"
   ]
  }
 ],
 "metadata": {
  "kernelspec": {
   "display_name": "base",
   "language": "python",
   "name": "python3"
  },
  "language_info": {
   "codemirror_mode": {
    "name": "ipython",
    "version": 3
   },
   "file_extension": ".py",
   "mimetype": "text/x-python",
   "name": "python",
   "nbconvert_exporter": "python",
   "pygments_lexer": "ipython3",
   "version": "3.12.7"
  }
 },
 "nbformat": 4,
 "nbformat_minor": 2
}
