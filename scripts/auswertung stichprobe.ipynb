{
 "cells": [
  {
   "cell_type": "code",
   "execution_count": 5,
   "metadata": {},
   "outputs": [],
   "source": [
    "import pandas as pd\n",
    "import csv\n",
    "import os\n",
    "\n",
    "#DATA = \"tbl_Vergleich_GV_GuenstjePostort_2Stichtage_Strom.csv\"\n",
    "DATA = \"stichprobe.csv\"\n",
    "ROOT = \"https://raw.githubusercontent.com/Takual/Energiepreise/refs/heads/main/data/raw/\"\n",
    "\n",
    "# Importiere die Daten mit europäischem Zahlenformat\n",
    "#df = pd.read_csv(ROOT + DATA, sep=';', decimal=',')\n",
    "df = pd.read_csv(ROOT + DATA, sep=',', decimal='.')"
   ]
  },
  {
   "cell_type": "code",
   "execution_count": 6,
   "metadata": {},
   "outputs": [],
   "source": [
    "# Entfernen von führenden und folgenden Leerzeichen in den Spaltennamen\n",
    "df.columns = df.columns.str.replace(r\"^\\s+|\\s+$\", \"\", regex=True)\n",
    "# Entfernen von \"%\" aus den Spaltennamen\n",
    "df.columns = df.columns.str.replace(r\"%\", \"\", regex=True)\n",
    "# Konvertieren der Spaltennamen in Kleinbuchstaben und Ersetzen von Leerzeichen mit Unterstrichen\n",
    "df.columns = df.columns.str.lower().str.replace(\" \", \"_\", regex=False)"
   ]
  },
  {
   "cell_type": "code",
   "execution_count": 10,
   "metadata": {},
   "outputs": [],
   "source": [
    "#df.dtypes\n",
    "#print(df.columns.tolist())\n",
    "\n",
    "#mittelwert für eine Spalte\n",
    "#df['gv_gesamtpreis_stichtag_neu'].mean()\n",
    "\n",
    "#statistische Werte für alle Spalten im Überblick\n",
    "#df.describe().T.round(2)\n",
    "\n",
    "df[\"plz\"] = df[\"plz\"].astype(\"category\")"
   ]
  },
  {
   "cell_type": "code",
   "execution_count": null,
   "metadata": {},
   "outputs": [],
   "source": [
    "#statistische Auswertung der Tarife gruppiert nach den ersten Ziffer der plz\n",
    "df[['gv_gesamtpreis_stichtag_neu', 'sondertarif_stichtag_neu_gesamtpreis', 'plz_firstdigit']].groupby(['plz_firstdigit']).describe().round(2).T"
   ]
  }
 ],
 "metadata": {
  "kernelspec": {
   "display_name": "base",
   "language": "python",
   "name": "python3"
  },
  "language_info": {
   "codemirror_mode": {
    "name": "ipython",
    "version": 3
   },
   "file_extension": ".py",
   "mimetype": "text/x-python",
   "name": "python",
   "nbconvert_exporter": "python",
   "pygments_lexer": "ipython3",
   "version": "3.12.7"
  }
 },
 "nbformat": 4,
 "nbformat_minor": 2
}
